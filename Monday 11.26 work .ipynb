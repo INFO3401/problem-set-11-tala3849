{
 "cells": [
  {
   "cell_type": "markdown",
   "metadata": {},
   "source": [
    "## Monday 11.26 problem 4\n",
    "worked with Marissa Kelley "
   ]
  },
  {
   "cell_type": "code",
   "execution_count": 2,
   "metadata": {},
   "outputs": [
    {
     "data": {
      "text/plain": [
       "RendererRegistry.enable('notebook')"
      ]
     },
     "execution_count": 2,
     "metadata": {},
     "output_type": "execute_result"
    }
   ],
   "source": [
    "import pandas as pd \n",
    "import numpy as np \n",
    "import matplotlib as py \n",
    "import altair as alt \n",
    "alt.renderers.enable('notebook')"
   ]
  },
  {
   "cell_type": "code",
   "execution_count": 3,
   "metadata": {},
   "outputs": [
    {
     "data": {
      "text/html": [
       "<div>\n",
       "<style scoped>\n",
       "    .dataframe tbody tr th:only-of-type {\n",
       "        vertical-align: middle;\n",
       "    }\n",
       "\n",
       "    .dataframe tbody tr th {\n",
       "        vertical-align: top;\n",
       "    }\n",
       "\n",
       "    .dataframe thead th {\n",
       "        text-align: right;\n",
       "    }\n",
       "</style>\n",
       "<table border=\"1\" class=\"dataframe\">\n",
       "  <thead>\n",
       "    <tr style=\"text-align: right;\">\n",
       "      <th></th>\n",
       "      <th>Gender</th>\n",
       "      <th>Mean_Age</th>\n",
       "      <th>Admitted</th>\n",
       "      <th>Rejected</th>\n",
       "      <th>Department</th>\n",
       "    </tr>\n",
       "  </thead>\n",
       "  <tbody>\n",
       "    <tr>\n",
       "      <th>0</th>\n",
       "      <td>Female</td>\n",
       "      <td>25</td>\n",
       "      <td>89</td>\n",
       "      <td>19</td>\n",
       "      <td>A</td>\n",
       "    </tr>\n",
       "    <tr>\n",
       "      <th>1</th>\n",
       "      <td>Female</td>\n",
       "      <td>22</td>\n",
       "      <td>17</td>\n",
       "      <td>8</td>\n",
       "      <td>B</td>\n",
       "    </tr>\n",
       "    <tr>\n",
       "      <th>2</th>\n",
       "      <td>Female</td>\n",
       "      <td>24</td>\n",
       "      <td>202</td>\n",
       "      <td>391</td>\n",
       "      <td>C</td>\n",
       "    </tr>\n",
       "    <tr>\n",
       "      <th>3</th>\n",
       "      <td>Female</td>\n",
       "      <td>23</td>\n",
       "      <td>131</td>\n",
       "      <td>244</td>\n",
       "      <td>D</td>\n",
       "    </tr>\n",
       "    <tr>\n",
       "      <th>4</th>\n",
       "      <td>Female</td>\n",
       "      <td>24</td>\n",
       "      <td>94</td>\n",
       "      <td>299</td>\n",
       "      <td>E</td>\n",
       "    </tr>\n",
       "    <tr>\n",
       "      <th>5</th>\n",
       "      <td>Female</td>\n",
       "      <td>24</td>\n",
       "      <td>24</td>\n",
       "      <td>317</td>\n",
       "      <td>F</td>\n",
       "    </tr>\n",
       "    <tr>\n",
       "      <th>6</th>\n",
       "      <td>Male</td>\n",
       "      <td>22</td>\n",
       "      <td>512</td>\n",
       "      <td>313</td>\n",
       "      <td>A</td>\n",
       "    </tr>\n",
       "    <tr>\n",
       "      <th>7</th>\n",
       "      <td>Male</td>\n",
       "      <td>22</td>\n",
       "      <td>353</td>\n",
       "      <td>207</td>\n",
       "      <td>B</td>\n",
       "    </tr>\n",
       "    <tr>\n",
       "      <th>8</th>\n",
       "      <td>Male</td>\n",
       "      <td>23</td>\n",
       "      <td>120</td>\n",
       "      <td>205</td>\n",
       "      <td>C</td>\n",
       "    </tr>\n",
       "    <tr>\n",
       "      <th>9</th>\n",
       "      <td>Male</td>\n",
       "      <td>24</td>\n",
       "      <td>138</td>\n",
       "      <td>279</td>\n",
       "      <td>D</td>\n",
       "    </tr>\n",
       "    <tr>\n",
       "      <th>10</th>\n",
       "      <td>Male</td>\n",
       "      <td>22</td>\n",
       "      <td>53</td>\n",
       "      <td>138</td>\n",
       "      <td>E</td>\n",
       "    </tr>\n",
       "    <tr>\n",
       "      <th>11</th>\n",
       "      <td>Male</td>\n",
       "      <td>25</td>\n",
       "      <td>22</td>\n",
       "      <td>351</td>\n",
       "      <td>F</td>\n",
       "    </tr>\n",
       "  </tbody>\n",
       "</table>\n",
       "</div>"
      ],
      "text/plain": [
       "    Gender  Mean_Age  Admitted  Rejected Department\n",
       "0   Female        25        89        19          A\n",
       "1   Female        22        17         8          B\n",
       "2   Female        24       202       391          C\n",
       "3   Female        23       131       244          D\n",
       "4   Female        24        94       299          E\n",
       "5   Female        24        24       317          F\n",
       "6     Male        22       512       313          A\n",
       "7     Male        22       353       207          B\n",
       "8     Male        23       120       205          C\n",
       "9     Male        24       138       279          D\n",
       "10    Male        22        53       138          E\n",
       "11    Male        25        22       351          F"
      ]
     },
     "execution_count": 3,
     "metadata": {},
     "output_type": "execute_result"
    }
   ],
   "source": [
    "simpsons = pd.read_csv('simpsons_paradox.csv')\n",
    "simpsons"
   ]
  },
  {
   "cell_type": "code",
   "execution_count": 11,
   "metadata": {},
   "outputs": [
    {
     "data": {
      "application/javascript": [
       "var spec = {\"config\": {\"view\": {\"width\": 400, \"height\": 300}}, \"data\": {\"name\": \"data-fbcf68b62e9fb30c66556f98a65b63ef\"}, \"mark\": \"bar\", \"encoding\": {\"x\": {\"type\": \"nominal\", \"field\": \"Gender\"}, \"y\": {\"type\": \"quantitative\", \"field\": \"Admitted\"}}, \"width\": 300, \"$schema\": \"https://vega.github.io/schema/vega-lite/v2.6.0.json\", \"datasets\": {\"data-fbcf68b62e9fb30c66556f98a65b63ef\": [{\"Gender\": \"Female\", \"Mean_Age\": 25, \"Admitted\": 89, \"Rejected\": 19, \"Department\": \"A\"}, {\"Gender\": \"Female\", \"Mean_Age\": 22, \"Admitted\": 17, \"Rejected\": 8, \"Department\": \"B\"}, {\"Gender\": \"Female\", \"Mean_Age\": 24, \"Admitted\": 202, \"Rejected\": 391, \"Department\": \"C\"}, {\"Gender\": \"Female\", \"Mean_Age\": 23, \"Admitted\": 131, \"Rejected\": 244, \"Department\": \"D\"}, {\"Gender\": \"Female\", \"Mean_Age\": 24, \"Admitted\": 94, \"Rejected\": 299, \"Department\": \"E\"}, {\"Gender\": \"Female\", \"Mean_Age\": 24, \"Admitted\": 24, \"Rejected\": 317, \"Department\": \"F\"}, {\"Gender\": \"Male\", \"Mean_Age\": 22, \"Admitted\": 512, \"Rejected\": 313, \"Department\": \"A\"}, {\"Gender\": \"Male\", \"Mean_Age\": 22, \"Admitted\": 353, \"Rejected\": 207, \"Department\": \"B\"}, {\"Gender\": \"Male\", \"Mean_Age\": 23, \"Admitted\": 120, \"Rejected\": 205, \"Department\": \"C\"}, {\"Gender\": \"Male\", \"Mean_Age\": 24, \"Admitted\": 138, \"Rejected\": 279, \"Department\": \"D\"}, {\"Gender\": \"Male\", \"Mean_Age\": 22, \"Admitted\": 53, \"Rejected\": 138, \"Department\": \"E\"}, {\"Gender\": \"Male\", \"Mean_Age\": 25, \"Admitted\": 22, \"Rejected\": 351, \"Department\": \"F\"}]}};\n",
       "var opt = {};\n",
       "var type = \"vega-lite\";\n",
       "var id = \"df3b0438-df31-46a4-84df-fad14d715899\";\n",
       "\n",
       "var output_area = this;\n",
       "\n",
       "require([\"nbextensions/jupyter-vega/index\"], function(vega) {\n",
       "  var target = document.createElement(\"div\");\n",
       "  target.id = id;\n",
       "  target.className = \"vega-embed\";\n",
       "\n",
       "  var style = document.createElement(\"style\");\n",
       "  style.textContent = [\n",
       "    \".vega-embed .error p {\",\n",
       "    \"  color: firebrick;\",\n",
       "    \"  font-size: 14px;\",\n",
       "    \"}\",\n",
       "  ].join(\"\\\\n\");\n",
       "\n",
       "  // element is a jQuery wrapped DOM element inside the output area\n",
       "  // see http://ipython.readthedocs.io/en/stable/api/generated/\\\n",
       "  // IPython.display.html#IPython.display.Javascript.__init__\n",
       "  element[0].appendChild(target);\n",
       "  element[0].appendChild(style);\n",
       "\n",
       "  vega.render(\"#\" + id, spec, type, opt, output_area);\n",
       "}, function (err) {\n",
       "  if (err.requireType !== \"scripterror\") {\n",
       "    throw(err);\n",
       "  }\n",
       "});\n"
      ],
      "text/plain": [
       "<vega.vegalite.VegaLite at 0x111b98f98>"
      ]
     },
     "metadata": {
      "jupyter-vega": "#df3b0438-df31-46a4-84df-fad14d715899"
     },
     "output_type": "display_data"
    },
    {
     "data": {
      "text/plain": []
     },
     "execution_count": 11,
     "metadata": {},
     "output_type": "execute_result"
    },
    {
     "data": {
      "image/png": "[encoded data removed]"
     },
     "metadata": {
      "jupyter-vega": "#df3b0438-df31-46a4-84df-fad14d715899"
     },
     "output_type": "display_data"
    }
   ],
   "source": [
    "alt.Chart(simpsons, width = 300).mark_bar().encode(\n",
    "    x = \"Gender\",\n",
    "    y = \"Admitted\"\n",
    ")"
   ]
  },
  {
   "cell_type": "markdown",
   "metadata": {},
   "source": [
    "In the graph above it shows you the correlation between gender and admitted students. From the chart we can see that there were around only 200 women admitted, but there were 500 men admitted. This shows the large gap in admissions within gender. This could make you ask further questions such as the correlation of departments and gender acceptances and rejections. "
   ]
  },
  {
   "cell_type": "code",
   "execution_count": 12,
   "metadata": {},
   "outputs": [
    {
     "data": {
      "application/javascript": [
       "var spec = {\"config\": {\"view\": {\"width\": 400, \"height\": 300}}, \"data\": {\"name\": \"data-fbcf68b62e9fb30c66556f98a65b63ef\"}, \"mark\": \"bar\", \"encoding\": {\"x\": {\"type\": \"quantitative\", \"field\": \"Mean_Age\"}, \"y\": {\"type\": \"quantitative\", \"field\": \"Rejected\"}}, \"selection\": {\"selector003\": {\"type\": \"interval\", \"bind\": \"scales\", \"encodings\": [\"x\", \"y\"]}}, \"width\": 300, \"$schema\": \"https://vega.github.io/schema/vega-lite/v2.6.0.json\", \"datasets\": {\"data-fbcf68b62e9fb30c66556f98a65b63ef\": [{\"Gender\": \"Female\", \"Mean_Age\": 25, \"Admitted\": 89, \"Rejected\": 19, \"Department\": \"A\"}, {\"Gender\": \"Female\", \"Mean_Age\": 22, \"Admitted\": 17, \"Rejected\": 8, \"Department\": \"B\"}, {\"Gender\": \"Female\", \"Mean_Age\": 24, \"Admitted\": 202, \"Rejected\": 391, \"Department\": \"C\"}, {\"Gender\": \"Female\", \"Mean_Age\": 23, \"Admitted\": 131, \"Rejected\": 244, \"Department\": \"D\"}, {\"Gender\": \"Female\", \"Mean_Age\": 24, \"Admitted\": 94, \"Rejected\": 299, \"Department\": \"E\"}, {\"Gender\": \"Female\", \"Mean_Age\": 24, \"Admitted\": 24, \"Rejected\": 317, \"Department\": \"F\"}, {\"Gender\": \"Male\", \"Mean_Age\": 22, \"Admitted\": 512, \"Rejected\": 313, \"Department\": \"A\"}, {\"Gender\": \"Male\", \"Mean_Age\": 22, \"Admitted\": 353, \"Rejected\": 207, \"Department\": \"B\"}, {\"Gender\": \"Male\", \"Mean_Age\": 23, \"Admitted\": 120, \"Rejected\": 205, \"Department\": \"C\"}, {\"Gender\": \"Male\", \"Mean_Age\": 24, \"Admitted\": 138, \"Rejected\": 279, \"Department\": \"D\"}, {\"Gender\": \"Male\", \"Mean_Age\": 22, \"Admitted\": 53, \"Rejected\": 138, \"Department\": \"E\"}, {\"Gender\": \"Male\", \"Mean_Age\": 25, \"Admitted\": 22, \"Rejected\": 351, \"Department\": \"F\"}]}};\n",
       "var opt = {};\n",
       "var type = \"vega-lite\";\n",
       "var id = \"5b9db879-7f98-47cd-ac04-9a0c68ffce1a\";\n",
       "\n",
       "var output_area = this;\n",
       "\n",
       "require([\"nbextensions/jupyter-vega/index\"], function(vega) {\n",
       "  var target = document.createElement(\"div\");\n",
       "  target.id = id;\n",
       "  target.className = \"vega-embed\";\n",
       "\n",
       "  var style = document.createElement(\"style\");\n",
       "  style.textContent = [\n",
       "    \".vega-embed .error p {\",\n",
       "    \"  color: firebrick;\",\n",
       "    \"  font-size: 14px;\",\n",
       "    \"}\",\n",
       "  ].join(\"\\\\n\");\n",
       "\n",
       "  // element is a jQuery wrapped DOM element inside the output area\n",
       "  // see http://ipython.readthedocs.io/en/stable/api/generated/\\\n",
       "  // IPython.display.html#IPython.display.Javascript.__init__\n",
       "  element[0].appendChild(target);\n",
       "  element[0].appendChild(style);\n",
       "\n",
       "  vega.render(\"#\" + id, spec, type, opt, output_area);\n",
       "}, function (err) {\n",
       "  if (err.requireType !== \"scripterror\") {\n",
       "    throw(err);\n",
       "  }\n",
       "});\n"
      ],
      "text/plain": [
       "<vega.vegalite.VegaLite at 0x111b98e48>"
      ]
     },
     "metadata": {
      "jupyter-vega": "#5b9db879-7f98-47cd-ac04-9a0c68ffce1a"
     },
     "output_type": "display_data"
    },
    {
     "data": {
      "text/plain": []
     },
     "execution_count": 12,
     "metadata": {},
     "output_type": "execute_result"
    },
    {
     "data": {
      "image/png": "[encoded data removed]"
     },
     "metadata": {
      "jupyter-vega": "#5b9db879-7f98-47cd-ac04-9a0c68ffce1a"
     },
     "output_type": "display_data"
    }
   ],
   "source": [
    "alt.Chart(simpsons, width = 300).mark_bar().encode(\n",
    "    x = \"Mean_Age\",\n",
    "    y = \"Rejected\"\n",
    ").interactive()"
   ]
  },
  {
   "cell_type": "markdown",
   "metadata": {},
   "source": [
    "In the graph above this shows you the correlation of mean age and those who were rejected. From this information, we can see that the age that was rejected the most was around 24.This could make you go further in asking of those ages, how many were men and how many were women. "
   ]
  }
 ],
 "metadata": {
  "kernelspec": {
   "display_name": "Python 3",
   "language": "python",
   "name": "python3"
  },
  "language_info": {
   "codemirror_mode": {
    "name": "ipython",
    "version": 3
   },
   "file_extension": ".py",
   "mimetype": "text/x-python",
   "name": "python",
   "nbconvert_exporter": "python",
   "pygments_lexer": "ipython3",
   "version": "3.6.3"
  }
 },
 "nbformat": 4,
 "nbformat_minor": 2
}
